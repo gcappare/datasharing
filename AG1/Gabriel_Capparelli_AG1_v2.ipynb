{
  "nbformat": 4,
  "nbformat_minor": 0,
  "metadata": {
    "colab": {
      "name": "Gabriel Capparelli - AG1.ipynb",
      "version": "0.3.2",
      "provenance": [],
      "collapsed_sections": [],
      "include_colab_link": true
    },
    "kernelspec": {
      "name": "python3",
      "display_name": "Python 3"
    }
  },
  "cells": [
    {
      "cell_type": "markdown",
      "metadata": {
        "id": "view-in-github",
        "colab_type": "text"
      },
      "source": [
        "<a href=\"https://colab.research.google.com/github/gcappare/datasharing/blob/master/AG1/Gabriel_Capparelli_AG1_v2.ipynb\" target=\"_parent\"><img src=\"https://colab.research.google.com/assets/colab-badge.svg\" alt=\"Open In Colab\"/></a>"
      ]
    },
    {
      "cell_type": "markdown",
      "metadata": {
        "id": "C4Xk8PXgC_4-",
        "colab_type": "text"
      },
      "source": [
        "# Actividad Guiada 1 - AG1\n",
        "\n",
        "Gabriel Capparelli\n",
        "\n",
        "2019-08-10\n",
        "\n",
        "https://colab.research.google.com/drive/1iC-IyVqsWZtclLvtEswt7AmPTSdRkhS0\n",
        "\n",
        "https://github.com/gcappare/03MAIR---Algoritmos-de-Optimizacion---2019"
      ]
    },
    {
      "cell_type": "markdown",
      "metadata": {
        "id": "6pOEARz4XMxi",
        "colab_type": "text"
      },
      "source": [
        "En esta actividad actividad guiada se vieron ejemplos prácticos de los siguientes algoritmos:\n",
        "\n",
        "* Divide y vencerás - QuickSort\n",
        "* Voraz - Cálculo de devolución de monedas\n",
        "* Vuelta Atrás - Problema de las N-Reinas\n",
        "\n",
        "Y se contempla una práctica individual de algoritmo para encontrar los dos puntos mas cercanos\n"
      ]
    },
    {
      "cell_type": "markdown",
      "metadata": {
        "id": "YcGuqWzX72YE",
        "colab_type": "text"
      },
      "source": [
        "## Decorador para medir tiempo de ejecución\n",
        "\n",
        "En clase se vió la utilidad de usar un decorador en python para medir el tiempo de ejecución de una función. En particular se explicó con la versión presentada por el compañero Ricardo Lebrón Aguilar. \n",
        "\n",
        "Por mi parte hice una pequeña modificación que incluye otros tres métodos de medir el tiempo ya que al investigar, el básado en time() no es el mas preciso que ofrece python y se recomienda el uso del método **perf_counter()**.\n",
        "\n",
        "\n",
        "Una descripción de los métodos incluidos (https://docs.python.org/3/library/time.html):\n",
        "\n",
        "* **perf_counter**: es el reloj con la mayor resolución posible\n",
        "* **process_time**: suma del tiempo de CPU y del proceso actual del usuario (métodos como **sleep** no lo afectan)\n",
        "* **monotonic**: garantiza que una llamada posterior a la función obtendrá un valor superior que una anterior aunque se cambie la hora del sistema\n",
        "\n",
        "\n",
        "\n",
        "\n",
        "\n",
        "\n",
        "\n"
      ]
    },
    {
      "cell_type": "code",
      "metadata": {
        "id": "jacerxoXCb6c",
        "colab_type": "code",
        "colab": {}
      },
      "source": [
        "from functools import wraps\n",
        "from time import time, monotonic, perf_counter, process_time, sleep\n",
        "import random\n",
        "\n",
        "# decorador Ricardo Lebrón Aguilar\n",
        "def calcular_tiempo(f):\n",
        "    @wraps(f)\n",
        "    def cronometro(*args, **kwargs):\n",
        "        t_inicial = time()\n",
        "        salida = f(*args, **kwargs)\n",
        "        t_final = time()\n",
        "        print('Tiempo transcurrido (en segundos): {}'.format(t_final - t_inicial))\n",
        "        return salida\n",
        "    return cronometro\n",
        "  \n",
        "def calcular_tiempos(f):\n",
        "    \"\"\"Mi versión calcula tiempo de ejecución usando diversos metodos del módulo de time\"\"\"\n",
        "    @wraps(f)\n",
        "    def cronometro(*args, **kwargs):\n",
        "        t_inicial = time()\n",
        "        t_inicial2 = perf_counter()\n",
        "        t_inicial3 = process_time()\n",
        "        t_inicial4 = monotonic()\n",
        "        salida = f(*args, **kwargs)\n",
        "        t_final = time() - t_inicial\n",
        "        t_final2 = perf_counter() - t_inicial2\n",
        "        t_final3 = process_time() - t_inicial3\n",
        "        t_final4 = monotonic() - t_inicial4\n",
        "        print(f\"Tiempo de ejecución de la función {f.__name__!r} \\ntime: {t_final:.5f}seg. \\nperf_counter: {t_final2:.5f}seg. \\nprocess_time: {t_final3:.5f}seg. \\nmonotonic: {t_final4:.5f}seg.\")\n",
        "        return salida\n",
        "    return cronometro"
      ],
      "execution_count": 0,
      "outputs": []
    },
    {
      "cell_type": "code",
      "metadata": {
        "id": "H8Km5AAeprYN",
        "colab_type": "code",
        "outputId": "a317907c-14f1-4c6f-fe26-d28192e121ea",
        "colab": {
          "base_uri": "https://localhost:8080/",
          "height": 136
        }
      },
      "source": [
        "@calcular_tiempos\n",
        "def duerme():\n",
        "    print (\"A dormir\")\n",
        "    sleep(3)\n",
        "    print (\"Despierto\")\n",
        "  \n",
        "\n",
        "duerme()"
      ],
      "execution_count": 9,
      "outputs": [
        {
          "output_type": "stream",
          "text": [
            "A dormir\n",
            "Despierto\n",
            "Tiempo de ejecución de la función 'duerme' \n",
            "time: 3.00592seg. \n",
            "perf_counter: 3.00592seg. \n",
            "process_time: 0.00355seg. \n",
            "monotonic: 3.00592seg.\n"
          ],
          "name": "stdout"
        }
      ]
    },
    {
      "cell_type": "markdown",
      "metadata": {
        "id": "Rr0HSngCO15o",
        "colab_type": "text"
      },
      "source": [
        "## Algoritmo Divide y Vencerás (DYV)\n",
        "\n",
        "La idea básica de este algoritmo es dividir el problema original en dos o mas problemas mas fáciles de resolver y combinar los resultados para la solución final. En otras palabras consta de tres pasos:\n",
        "\n",
        "1. **Divide**: Descomponer el problema y sub-problemas del mismo tipo.\n",
        "2. **Vencerás**: Resolver estos problemas recursivamente.\n",
        "3. Combinar las respuestas para obtener la solución final.\n",
        "\n",
        "ref.: https://www.geeksforgeeks.org/divide-and-conquer/\n",
        "\n",
        "Uno de los problemas clásicos que se resuelven con este algoritmo es el del ordenamiento. Aquí veremos como se implementa en el algoritmo de **QuickSort** el cuál es uno de los algoritmos mas eficientes para ordenar, que funciona dividiendo una lista en dos y luego resolviendo cada lista recursivamente, una de las claves de este algoritmo es escoger el mejor punto para dividir la lista, este punto se conoce como pivote.\n",
        "\n",
        "En el ejemplo visto en clase el pivote se calculó sacando la media de tres valores de la lista, este parece ser el método de **\"tres bandas\"** que consiste en precisamente sacar la media de tres número aleatorios (como los números fueron generados aleatoriamente podemos suponer que los tres primeros son aleatorios) que estadísticamente nos dará un buen pivote. \n",
        "\n",
        "ref.: https://www.genbeta.com/desarrollo/implementando-el-algoritmo-quicksort\n",
        "\n",
        "...\n",
        "  \n",
        " La actividad siguió los siguientes pasos:\n",
        "\n",
        "1. Primero probamos el caso donde la lista tiene un solo elemento, en este caso devolvemos el mismo elemento (1*)\n",
        "2. Luego probamos cuando contiene dos elementos. Aquí devolvemos los dos elementos pero ordenados de menor a mayor(2*).\n",
        "3. Luego  estimamos el pivote (3*)\n",
        "4. Completamos el algoritmo\n",
        "5. Probamos con una lista de 19 elementos (4*)\n",
        "6. Luego probamos con una lista de 300 y 600 números aleatorios entre 1 y 10.000 (5*)\n",
        "\n",
        "\n",
        "Se pudo observar que el uso de estos algoritmos recursivos tienen el problema que pueden llegar a consumir bastantes recursos, el ejemplo visto fue que al tratar de ordenar una lista con mas de 600 números se llegó al límite de recursividad de la herramienta usada."
      ]
    },
    {
      "cell_type": "code",
      "metadata": {
        "id": "PQOZaM-9Cita",
        "colab_type": "code",
        "outputId": "da43c46a-fdd6-4700-d72b-782a8d9db21f",
        "colab": {
          "base_uri": "https://localhost:8080/",
          "height": 119
        }
      },
      "source": [
        "# primero hicimos una prueba con una lista pequeña (4*)\n",
        "A = [9187, 244, 4054, 9222, 8373, 4993, 5265, 5470, 4519, 7182, 2035, 3506, 4337, 7580, 2554, 2824, 8357, 4447, 7379]\n",
        "\n",
        "# luego usamos una lista mas grande compuesta de números aleatorios. (5*)\n",
        "# se pudo observar que al intentar una lista aproximadamente mayor a 600 \n",
        "# el sistema arroja un error por sobrepasar límites de recursividad.\n",
        "A = list(map(lambda x:random.randrange(1,10000), range(1,600)))\n",
        "print('Mostramos los primeros 15 elementos para ver que están desordenados:')\n",
        "print(A[:15])\n",
        "\n",
        "def quick_sort(A):\n",
        "    # si la lista tiene un elemento retornar la misma lista (1*)\n",
        "    if len(A) <= 1:\n",
        "        return A\n",
        "    \n",
        "    # si tiene dos elementos devolverlos ordenados (2*)\n",
        "    if len(A) == 2:\n",
        "        return [min(A), max(A)]\n",
        "      \n",
        "    # Calculamos el pivote (3*)\n",
        "    pivote = (A[0] + A[1] + A[2]) / 3\n",
        "    \n",
        "    # Inicializamos las listas IZQ y DER para los valores menores al pivote (IZQ) y mayores (DER)\n",
        "    IZQ = []\n",
        "    DER = []\n",
        "    # Recorremos la lista, si el número es menor al pivote agregamos a la lista IZQ\n",
        "    # de lo contrario lo agregamos a la lista DER\n",
        "    for n in A:\n",
        "      if n < pivote:\n",
        "        IZQ.append(n)\n",
        "      else:\n",
        "        DER.append(n)\n",
        "        \n",
        "    # Aqui se hace la recurrencia haciendo quicksort de cada una de las listas\n",
        "    return quick_sort(IZQ) + quick_sort(DER)\n",
        "      \n",
        "    \n",
        "@calcular_tiempo\n",
        "def ordenar(A):\n",
        "    return(quick_sort(A))\n",
        "    \n",
        "print('\\nAhora ordenados:')\n",
        "ordenar(A)[:15]"
      ],
      "execution_count": 82,
      "outputs": [
        {
          "output_type": "stream",
          "text": [
            "Mostramos los primeros 15 elementos para ver que están desordenados:\n",
            "[1956, 6493, 4271, 453, 1030, 3920, 6362, 1123, 317, 5665, 3494, 9303, 4801, 2961, 2201]\n",
            "\n",
            "Ahora ordenados:\n",
            "Tiempo transcurrido (en segundos): 0.0018546581268310547\n"
          ],
          "name": "stdout"
        },
        {
          "output_type": "execute_result",
          "data": {
            "text/plain": [
              "[76, 88, 100, 111, 127, 132, 150, 164, 168, 175, 191, 215, 220, 236, 239]"
            ]
          },
          "metadata": {
            "tags": []
          },
          "execution_count": 82
        }
      ]
    },
    {
      "cell_type": "markdown",
      "metadata": {
        "id": "5vCGkSoNCkFp",
        "colab_type": "text"
      },
      "source": [
        "## QuickSort - Mejoras\n",
        "\n",
        "La clave de la eficiencia de este algoritmo está en escoger el punto pivote que separa una lista en dos listas iguales. Dependiendo del pivote el algoritmo puede tener una complejidad de entre:\n",
        "\n",
        "$$O(n \\cdot log (n))\\text{ y }O(n^2)$$ \n",
        "\n",
        "En el siguiente ejemplo puse un contador global y locales para contar las veces que se pasa por el algoritmo y asi ver las mejoras si las hay, ya que la diferencia en tiempos es tan pequeña que es muy dificil determinar si se deben al algoritmo o a algun otro proceso del cpu.\n",
        "\n",
        "Con **pivote = (A[0] + A[1] + A[2]) / 3** obtuve ejemplos como este para 50 números, con este pivote las listas no eran muy similares, un ejemplo 31 y 16:\n",
        "```\n",
        "12345678901234567890123456789012345678901234567890( 50 )\n",
        "\n",
        "1234567890123456789012345678901( 31 )\n",
        "\n",
        "1234567890123456( 16 )\n",
        "```\n",
        "Con **pivote = (sum(A)/len(A))** obtuve una división mucho mas balanceada:\n",
        "```\n",
        "12345678901234567890123456789012345678901234567890( 50 )\n",
        "\n",
        "1234567890123456789012345678( 28 )\n",
        "\n",
        "1234567890123456789012( 22 )\n",
        "```\n",
        "Con 300 números calculé una **suma_global** de llamadas al algoritmo. Hice cinco sorteos por método de pivote dando unos promedios de: \n",
        "\n",
        "**pivote = (A[0] + A[1] + A[2]) / 3** => 2413 (0.001077890396118164 seg.)\n",
        "\n",
        "**pivote = (sum(A)/len(A))** => 2272 (0.00104522705078125 seg.)\n",
        "\n",
        "Se ve una clara mejora tanto en ciclos como en tiempo, el problema que veo es que al hacer el cálculo del promedio hay que sumar todos los números de la lista cada vez que se calcula un pivote y estoy usando una función para sumar (sum) cuando deberia usar un loop sumando todos los elementos. Por lo tanto no estoy seguro si en terminos de complejidad es mejor o peor algoritmo, pero si da un mejor pivote.\n",
        "\n",
        "En https://en.wikipedia.org/wiki/Quicksort podemos ver que existen otros métodos como la mediana de tres o usando múltiples pivotes. Seria un ejercicio interesante probar todos a ver que diferencias hay entre cada uno."
      ]
    },
    {
      "cell_type": "code",
      "metadata": {
        "id": "RQVWfoTg9Hgr",
        "colab_type": "code",
        "colab": {
          "base_uri": "https://localhost:8080/",
          "height": 51
        },
        "outputId": "b320a37b-39e8-474b-c213-e346f166b686"
      },
      "source": [
        "# Probamos con una prueba de 100 números a ver con que método se escoge el mejor pivote\n",
        "#\n",
        "A = list(map(lambda x:random.randrange(1,10000), range(1,301)))\n",
        "\n",
        "def quick_sort2(A):\n",
        "    global suma_global\n",
        "    # si la lista tiene un elemento retornar la misma lista (1*)\n",
        "    if len(A) <= 1:\n",
        "        return A\n",
        "    \n",
        "    # si tiene dos elementos devolverlos ordenados (2*)\n",
        "    if len(A) == 2:\n",
        "        return [min(A), max(A)]\n",
        "      \n",
        "    # Calculamos el pivote (3*)\n",
        "    #pivote = (A[0] + A[1] + A[2]) / 3\n",
        "    pivote = (sum(A)/len(A))\n",
        "    \n",
        "    # mediana de tres\n",
        "    lo = 0\n",
        "    hi = len(A)-1\n",
        "    mid = len(A) // 2\n",
        "    if A[mid] < A[lo]:\n",
        "        A[mid], A[lo] = A[lo], A[mid] \n",
        "    if A[hi] < A[lo]:\n",
        "        A[lo], A[hi] = A[hi], A[lo]\n",
        "    if A[mid] < A[hi]:\n",
        "        A[mid], A[hi] = A[hi], A[mid]\n",
        "    #pivote = A[hi]\n",
        "    #print(pivote)\n",
        "    \n",
        "    # Inicializamos las listas IZQ y DER para los valores menores al pivote (IZQ) y mayores (DER)\n",
        "    IZQ = []\n",
        "    DER = []\n",
        "    # Recorremos la lista, si el número es menor al pivote agregamos a la lista IZQ\n",
        "    # de lo contrario lo agregamos a la lista DER\n",
        "    i=0\n",
        "    t=0\n",
        "    for n in A:\n",
        "      i = 0 if i>=9 else i+1\n",
        "      t += 1\n",
        "      suma_global += 1\n",
        "      \n",
        "      #print(i, end = '')\n",
        "      if n < pivote:\n",
        "        IZQ.append(n)\n",
        "      else:\n",
        "        DER.append(n)\n",
        "      \n",
        "    #print('(',t,')')\n",
        "    # Aqui se hace la recurrencia haciendo quicksort de cada una de las listas\n",
        "    return quick_sort2(IZQ) + quick_sort2(DER)\n",
        "      \n",
        "    \n",
        "@calcular_tiempo\n",
        "def ordenar2(A):\n",
        "    #pruebas para mejorar el algoritmo\n",
        "    #print('Pivote:',(A[0] + A[1] + A[2]) / 3)\n",
        "    #print('Media:',sum(A)/len(A))\n",
        "    return(quick_sort2(A))\n",
        "    \n",
        "\n",
        "suma_global = 0\n",
        "ordenar2(A)[:15]\n",
        "print(suma_global)"
      ],
      "execution_count": 120,
      "outputs": [
        {
          "output_type": "stream",
          "text": [
            "Tiempo transcurrido (en segundos): 0.0011839866638183594\n",
            "2273\n"
          ],
          "name": "stdout"
        }
      ]
    },
    {
      "cell_type": "markdown",
      "metadata": {
        "id": "3pR2xbgDMZL-",
        "colab_type": "text"
      },
      "source": [
        "## Algoritmo Voraz\n",
        "\n",
        "Es una estrategia de búsqueda por la cual se sigue una heurística consistente en elegir la opción óptima en cada paso local con la esperanza de llegar a una solución general óptima. https://es.wikipedia.org/wiki/Algoritmo_voraz\n",
        "Un problema típico que se resuelve con este algoritmo es el de la devolución de monedas.\n",
        "\n",
        "\n",
        "**Problema:** Buscar las monedas para completar la cantidad con el sistema [25, 10, 5, 1]\n",
        "\n"
      ]
    },
    {
      "cell_type": "markdown",
      "metadata": {
        "id": "_aIDqxX3PCYJ",
        "colab_type": "text"
      },
      "source": [
        "Algoritmo para devolución de monedas usando un algoritmo voraz"
      ]
    },
    {
      "cell_type": "code",
      "metadata": {
        "id": "bLOCCcMaLq6g",
        "colab_type": "code",
        "outputId": "a4d42839-52ae-4b67-f7ac-90bbb2c3eb23",
        "colab": {
          "base_uri": "https://localhost:8080/",
          "height": 51
        }
      },
      "source": [
        "SISTEMA= [25, 10, 5, 1]\n",
        "#SISTEMA = quick_sort(SISTEMA)\n",
        "\n",
        "@calcular_tiempo\n",
        "def cambio_monedas(CANTIDAD,SISTEMA): \n",
        "    # definimos el tamaño de la lista que contiene la solución \n",
        "    # que será igual a la cantidad de elementos del sistema,\n",
        "    # en este caso 4\n",
        "    # e inicializamos cada elemento a 0\n",
        "    SOLUCION = [0 for i in range(len(SISTEMA))]\n",
        "  \n",
        "    # inicializamos una variable que acumulará\n",
        "    # el valor total de las monedas\n",
        "    VALOR_ACUMULADO = 0 \n",
        "  \n",
        "    # iteramos cada valor de la lista por indice\n",
        "    for i in range(len(SISTEMA)): \n",
        "        # dividimos el valor que nos va quedando entre el valor\n",
        "        # del indice de la lista que vamos iterando\n",
        "        # la parte entera es la cantidad de monedas\n",
        "        # máximas que se puede usar para este valor\n",
        "        monedas = int((CANTIDAD-VALOR_ACUMULADO)/SISTEMA[i])\n",
        "        # guardamos la cantidad de monedas en la lista\n",
        "        # de la solución en el indice del valor de\n",
        "        # la moneda de cada iteración\n",
        "        SOLUCION[i]=monedas\n",
        "        # vamos sumando el total de las monedas\n",
        "        # hasta el momento\n",
        "        VALOR_ACUMULADO += monedas*SISTEMA[i]\n",
        "    \n",
        "        # si el valor de las monedas es igual a la cantidad\n",
        "        # a devolver, hemos terminado y devolvemos la solucion\n",
        "        if VALOR_ACUMULADO == CANTIDAD:\n",
        "          return SOLUCION\n",
        "  \n",
        "    # si despues de recorrer todo nuestro SISTEMA la cantidad\n",
        "    # acumulada no es igual a la cantidad a devolver\n",
        "    # el problema no tiene solución con el sistema dado\n",
        "    return \"NO HAY SOLUCION\"\n",
        "  \n",
        "print (cambio_monedas(23,SISTEMA))\n",
        "  "
      ],
      "execution_count": 3,
      "outputs": [
        {
          "output_type": "stream",
          "text": [
            "Tiempo transcurrido (en segundos): 1.430511474609375e-05\n",
            "[0, 2, 0, 3]\n"
          ],
          "name": "stdout"
        }
      ]
    },
    {
      "cell_type": "markdown",
      "metadata": {
        "id": "IlKOY2r4SVV0",
        "colab_type": "text"
      },
      "source": [
        "## Algoritmo de Cambio de moneda mejorado\n",
        "\n",
        "Propuesta para mejorar el algoritmo presentado en clases:\n",
        "\n",
        "1. Ordenar el SISTEMA de mayor a menor para evitar que se den fallos si el sistema no viene ordenado como es requerido.\n",
        "2. Mostrar un resultado mas amigable para el usuario, indicando cuantas monedas de cada valor hay que devolver \n",
        "\n"
      ]
    },
    {
      "cell_type": "code",
      "metadata": {
        "id": "tFAxbCUbT4Wm",
        "colab_type": "code",
        "colab": {
          "base_uri": "https://localhost:8080/",
          "height": 85
        },
        "outputId": "0ba73890-ec4d-45b0-e5ca-fff17f95680b"
      },
      "source": [
        "# Para ordenar la lista podriamos usar el algoritmo quick_sort\n",
        "# declarado mas arriba pero tendriamos que modificarlo para\n",
        "# que ordene de mayor a menor.\n",
        "# En esta oportunidad usaremos el método de python list.sort\n",
        "# para ordenar la lista\n",
        "\n",
        "@calcular_tiempo\n",
        "def cambio_monedas_mejorado(CANTIDAD,SISTEMA): \n",
        "    # ordenamos la cantidad de mayor a menor\n",
        "    SISTEMA.sort(reverse=True)\n",
        "    \n",
        "    # definimos el tamaño de la lista que contiene la solución \n",
        "    # que será igual a la cantidad de elementos del sistema,\n",
        "    # en este caso 4\n",
        "    # e inicializamos cada elemento a 0\n",
        "    SOLUCION = [0 for i in range(len(SISTEMA))]\n",
        "  \n",
        "    # inicializamos una variable que acumulará\n",
        "    # el valor total de las monedas\n",
        "    VALOR_ACUMULADO = 0 \n",
        "  \n",
        "    # iteramos cada valor de la lista por indice\n",
        "    for i in range(len(SISTEMA)): \n",
        "        # dividimos el valor que nos va quedando entre el valor\n",
        "        # del indice de la lista que vamos iterando\n",
        "        # la parte entera es la cantidad de monedas\n",
        "        # máximas que se puede usar para este valor\n",
        "        monedas = int((CANTIDAD-VALOR_ACUMULADO)/SISTEMA[i])\n",
        "        # guardamos la cantidad de monedas en la lista\n",
        "        # de la solución en el indice del valor de\n",
        "        # la moneda de cada iteración\n",
        "        SOLUCION[i]=monedas\n",
        "        # vamos sumando el total de las monedas\n",
        "        # hasta el momento\n",
        "        VALOR_ACUMULADO += monedas*SISTEMA[i]\n",
        "    \n",
        "        # si el valor de las monedas es igual a la cantidad\n",
        "        # a devolver, hemos terminado y devolvemos la solucion\n",
        "        if VALOR_ACUMULADO == CANTIDAD:\n",
        "            print('Debe devolver el cambio de la siguiente manera:')\n",
        "            for i in range(len(SISTEMA)):\n",
        "              if SOLUCION[i]!=0:\n",
        "                  print(SOLUCION[i],'monedas de',SISTEMA[i])\n",
        "            return\n",
        "  \n",
        "    # si despues de recorrer todo nuestro SISTEMA la cantidad\n",
        "    # acumulada no es igual a la cantidad a devolver\n",
        "    # el problema no tiene solución con el sistema dado\n",
        "    return \"NO HAY SOLUCION\"\n",
        "  \n",
        "SISTEMA= [5, 25, 1, 10]\n",
        "cambio_monedas_mejorado(23,SISTEMA)"
      ],
      "execution_count": 137,
      "outputs": [
        {
          "output_type": "stream",
          "text": [
            "Debe devolver el cambio de la siguiente manera:\n",
            "2 monedas de 10\n",
            "3 monedas de 1\n",
            "Tiempo transcurrido (en segundos): 0.0018296241760253906\n"
          ],
          "name": "stdout"
        }
      ]
    },
    {
      "cell_type": "markdown",
      "metadata": {
        "id": "hMfdJxYpW4PW",
        "colab_type": "text"
      },
      "source": [
        ""
      ]
    },
    {
      "cell_type": "markdown",
      "metadata": {
        "id": "1mgr9FgBPnw3",
        "colab_type": "text"
      },
      "source": [
        "## Algoritmo de vuelta atrás\n",
        "\n",
        "**Problema:** Problema de las N-reinas\n",
        "\n",
        "Los algoritmos de vuelta atrás se basan en recorrer el espacio completo de las soluciones posibles al problema planteado. https://es.wikibooks.org/wiki/Algoritmia/Vuelta_atr%C3%A1s\n",
        "\n"
      ]
    },
    {
      "cell_type": "code",
      "metadata": {
        "id": "FedwQNm7OekT",
        "colab_type": "code",
        "outputId": "8ed23dbb-e70f-41c5-fed2-ceddbab5490e",
        "colab": {
          "base_uri": "https://localhost:8080/",
          "height": 204
        }
      },
      "source": [
        "# Algoritmo de vuelta atras para el problema de las N-reinas\n",
        "def es_prometedora(SOLUCION,etapa):\n",
        "  for i in range(etapa+1):\n",
        "    # verificar que no haya reinas en la misma fila\n",
        "    if SOLUCION.count(SOLUCION[i]) > 1:       \n",
        "      return False\n",
        "  \n",
        "    # verificar que no haya otra dama en diagonal\n",
        "    for j in range(i+1, etapa +1 ):\n",
        "      if abs(i-j) == abs(SOLUCION[i]-SOLUCION[j]) : \n",
        "        return False\n",
        "\n",
        "  # no hay damas que amenacen\n",
        "  return True\n",
        "\n",
        "\n",
        "def reinas(N,solucion=[],etapa=0): \n",
        "  \n",
        "  # Si es la primera llamada inicializamos\n",
        "  # todos los elementos en 0\n",
        "  # indicando que no hay reinas en ninguna casilla\n",
        "  if len(solucion) == 0:\n",
        "    solucion=[0 for i in range(N)]\n",
        "      \n",
        "  # iterar para cada reina/columna\n",
        "  for i in range(1,N+1):\n",
        "    # colocamos una reina\n",
        "    solucion[etapa] = i\n",
        " \n",
        "    # y revisamos si no tiene problemas\n",
        "    # en esa casilla\n",
        "    if es_prometedora(solucion,etapa):\n",
        "      # si en la posición la reina no esta amenazada\n",
        "      # y estamos en la penúltima etapa, encontramos la solución\n",
        "      if etapa == N-1 :\n",
        "        print('\\nLa solución es:\\n',solucion)\n",
        "      else:\n",
        "        # si no es el final seguimos llamando\n",
        "        # recursivamente\n",
        "        reinas(N,solucion,etapa+1)\n",
        "    else:\n",
        "      # no es prometedora\n",
        "      None\n",
        "    \n",
        "    solucion[etapa] = 0\n",
        "    \n",
        "    \n",
        "    \n",
        "N = 4\n",
        "@calcular_tiempos\n",
        "def buscar_reinas(N):\n",
        "    return(reinas(N))\n",
        "    \n",
        "buscar_reinas(N)"
      ],
      "execution_count": 15,
      "outputs": [
        {
          "output_type": "stream",
          "text": [
            "\n",
            "La solución es:\n",
            " [2, 4, 1, 3]\n",
            "\n",
            "La solución es:\n",
            " [3, 1, 4, 2]\n",
            "Tiempo de ejecución de la función 'buscar_reinas' \n",
            "time: 0.00081seg. \n",
            "perf_counter: 0.00081seg. \n",
            "process_time: 0.00080seg. \n",
            "monotonic: 0.00081seg.\n"
          ],
          "name": "stdout"
        }
      ]
    },
    {
      "cell_type": "markdown",
      "metadata": {
        "id": "Ujt2nBkDGuR6",
        "colab_type": "text"
      },
      "source": [
        "## Mejora de visualización de la solución\n",
        "\n",
        "Ya que no podia vizualizar bien la solución añadí código para dibujar el tablero y las reinas. Usando los caracteres de ajedrez en https://en.wikipedia.org/wiki/Chess_symbols_in_Unicode y https://www.unicode.org/charts/PDF/U2600.pdf\n",
        "\n",
        "Funciona para 8 reinas también."
      ]
    },
    {
      "cell_type": "code",
      "metadata": {
        "id": "jxwPxM4vEngj",
        "colab_type": "code",
        "colab": {
          "base_uri": "https://localhost:8080/",
          "height": 255
        },
        "outputId": "d28782ec-d042-48fb-b4ed-a9995edc17c2"
      },
      "source": [
        "def reinas(N,solucion=[],etapa=0): \n",
        "  \n",
        "  # Si es la primera llamada inicializamos\n",
        "  # todos los elementos en 0\n",
        "  # indicando que no hay reinas en ninguna casilla\n",
        "  if len(solucion) == 0:\n",
        "    solucion=[0 for i in range(N)]\n",
        "      \n",
        "  # iterar para cada reina/columna\n",
        "  for i in range(1,N+1):\n",
        "    # colocamos una reina\n",
        "    solucion[etapa] = i\n",
        " \n",
        "    # y revisamos si no tiene problemas\n",
        "    # en esa casilla\n",
        "    if es_prometedora(solucion,etapa):\n",
        "      # si en la posición la reina no esta amenazada\n",
        "      # y estamos en la penúltima etapa, encontramos la solución\n",
        "      if etapa == N-1 :\n",
        "        print('\\nUna solución es:\\n',solucion)\n",
        "        # vamos pintando casilla por casilla fila por fila\n",
        "        # si estamos en la casilla que corresponde con una en la lista de solución\n",
        "        # pintamos una reina de lo contrario un figura de igual ancho\n",
        "        # color_casilla va alternando el color de la casilla del tablero 9929/9930   9744/9746\n",
        "        # lo comente proque el negro se confundia con la reina\n",
        "        color_casilla = chr(9750)\n",
        "        for f in range(1,N+1):\n",
        "          for j in range(0,len(solucion)):\n",
        "            # usamos operador ternario para seleccionar el caracter correcto.\n",
        "            #color_casilla = chr(9750) if color_casilla == chr(9751) else chr(9751)\n",
        "            caracter = (' '+chr(9819)+' ') if solucion[j] == f else (' '+color_casilla+' ')\n",
        "            print(caracter,end='')\n",
        "          # saltamos a la próxima fila\n",
        "          print()\n",
        "          #color_casilla = chr(9750) if color_casilla == chr(9751) else chr(9751)\n",
        "      else:\n",
        "        # si no es el final seguimos llamando\n",
        "        # recursivamente\n",
        "        reinas(N,solucion,etapa+1)\n",
        "    else:\n",
        "      # no es prometedora\n",
        "      None\n",
        "    \n",
        "    solucion[etapa] = 0\n",
        "    \n",
        "    \n",
        "N = 4\n",
        "reinas(N)"
      ],
      "execution_count": 67,
      "outputs": [
        {
          "output_type": "stream",
          "text": [
            "\n",
            "Una solución es:\n",
            " [2, 4, 1, 3]\n",
            " ☖  ☖  ♛  ☖ \n",
            " ♛  ☖  ☖  ☖ \n",
            " ☖  ☖  ☖  ♛ \n",
            " ☖  ♛  ☖  ☖ \n",
            "\n",
            "Una solución es:\n",
            " [3, 1, 4, 2]\n",
            " ☖  ♛  ☖  ☖ \n",
            " ☖  ☖  ☖  ♛ \n",
            " ♛  ☖  ☖  ☖ \n",
            " ☖  ☖  ♛  ☖ \n"
          ],
          "name": "stdout"
        }
      ]
    },
    {
      "cell_type": "code",
      "metadata": {
        "id": "Oap8-j5y2Kpx",
        "colab_type": "code",
        "colab": {}
      },
      "source": [
        ""
      ],
      "execution_count": 0,
      "outputs": []
    },
    {
      "cell_type": "markdown",
      "metadata": {
        "id": "o68ZGOQEXLXX",
        "colab_type": "text"
      },
      "source": [
        "# Práctica individual\n",
        "\n",
        "**Problema:** Encontrar los dos puntos más cercanos\n",
        "\n",
        "Dado un conjunto de puntos se trata de encontrar los dos puntos más cercanos\n",
        "\n",
        "## Guía para aprendizaje:\n",
        "\n",
        "1. Suponer en 1D, o sea, una lista de números: [3403, 4537, 9089, 9746, 7259, ….\n",
        "\n",
        "2. Primer intento: Fuerza bruta\n",
        "\n",
        "3.  Calcular la complejidad. ¿Se puede mejorar?\n",
        "\n",
        "4. Segundo intento. Aplicar Divide y Vencerás\n",
        "\n",
        "5. Calcular la complejidad. ¿Se puede mejorar?\n",
        "\n",
        "6. Extender el algoritmo a 2D: [(1122, 6175), (135, 4076), (7296, 2741)…\n",
        "\n",
        "7. Extender el algoritmo a 3D"
      ]
    },
    {
      "cell_type": "code",
      "metadata": {
        "id": "05mpQAJ1XTUH",
        "colab_type": "code",
        "colab": {}
      },
      "source": [
        "import random\n",
        "LISTA_1D = [random.randrange(1,10000) for x in range (1000)]\n",
        "LISTA_2D = [(random.randrange(1,10000),random.randrange(1,10000)) for x in range (1000)]\n",
        "\n",
        "# nota: para la prueba de 1D la LISTA_1D como esta generada arriba produce números repetidos\n",
        "# incluso múltiples veces\n",
        "# para hacer una mejor prueba, utilicé una lista que garantice puntos únicos y con cierta separación:\n",
        "LISTA_1DU = random.sample(range(100000000), 1000)\n",
        "\n",
        "# Lista para hacer pruebas iniciales\n",
        "LISTA_PRUEBA = [100,4,76,9,32,12]"
      ],
      "execution_count": 0,
      "outputs": []
    },
    {
      "cell_type": "markdown",
      "metadata": {
        "id": "AVZlEkYFQP62",
        "colab_type": "text"
      },
      "source": [
        "### Intento por fuerza bruta para 1D\n",
        "\n",
        "En este algoritmo se deben hacer $ \\frac{n \\cdot (n-1)}{2}  $ comparaciones\n",
        "\n",
        "De esta manera tiene una complejidad proporcional a $O(n^2)$\n"
      ]
    },
    {
      "cell_type": "code",
      "metadata": {
        "id": "l2PdRnzyQX4l",
        "colab_type": "code",
        "colab": {
          "base_uri": "https://localhost:8080/",
          "height": 255
        },
        "outputId": "21a3c756-0ee4-4fa7-a390-847064e892b4"
      },
      "source": [
        "def dist_fuerza_bruta(lista):\n",
        "\n",
        "    # inicializamos mejor_distancia con infinito\n",
        "    mejor_distancia = float('inf')\n",
        "    n=0\n",
        "    # iterar por cada elemento en la lista\n",
        "    for i in range(0,len(lista)-1):\n",
        "        # comparar con los elementos que faltan\n",
        "        # los que ya comparó no hace falta volver a comparar\n",
        "        for j in range (i+1, len(lista)):\n",
        "            n += 1\n",
        "            #print('Compara',lista[i],'con',lista[j])\n",
        "            distancia_puntos = abs(lista[i]-lista[j])\n",
        "            if distancia_puntos < mejor_distancia:\n",
        "                mejor_distancia = distancia_puntos\n",
        "                puntos_mas_cercanos = (lista[i],lista[j])\n",
        "    return puntos_mas_cercanos, mejor_distancia, n\n",
        "        \n",
        "\n",
        "print('\\033[1m' + 'Prueba con seis puntos'+ '\\033[0m')\n",
        "print('Puntos mas cercanos:',dist_fuerza_bruta(LISTA_PRUEBA)[0], '\\nDistancia entre puntos:', dist_fuerza_bruta(LISTA_PRUEBA)[1],'\\nDemostración Complejidad:',dist_fuerza_bruta(LISTA_PRUEBA)[2])\n",
        "\n",
        "print('\\033[1m' + '\\nPrueba con mil puntos'+ '\\033[0m')\n",
        "print('Puntos mas cercanos:',dist_fuerza_bruta(LISTA_1D)[0], '\\nDistancia entre puntos:', dist_fuerza_bruta(LISTA_1D)[1],'\\nDemostración Complejidad:',dist_fuerza_bruta(LISTA_1D)[2])\n",
        "\n",
        "print('\\033[1m' + '\\nPrueba con mil puntos pero con una muestra aleatoria sin números repetidos'+ '\\033[0m')\n",
        "print('Puntos mas cercanos:',dist_fuerza_bruta(LISTA_1DU)[0], '\\nDistancia entre puntos:', dist_fuerza_bruta(LISTA_1DU)[1],'\\nDemostración Complejidad:',dist_fuerza_bruta(LISTA_1DU)[2])\n"
      ],
      "execution_count": 22,
      "outputs": [
        {
          "output_type": "stream",
          "text": [
            "\u001b[1mPrueba con seis puntos\u001b[0m\n",
            "Puntos mas cercanos: (9, 12) \n",
            "Distancia entre puntos: 3 \n",
            "Demostración Complejidad: 15\n",
            "\u001b[1m\n",
            "Prueba con mil puntos\u001b[0m\n",
            "Puntos mas cercanos: (2379, 2379) \n",
            "Distancia entre puntos: 0 \n",
            "Demostración Complejidad: 499500\n",
            "\u001b[1m\n",
            "Prueba con mil puntos pero con una muestra aleatoria sin números repetidos\u001b[0m\n",
            "Puntos mas cercanos: (57756777, 57756707) \n",
            "Distancia entre puntos: 70 \n",
            "Demostración Complejidad: 499500\n"
          ],
          "name": "stdout"
        }
      ]
    },
    {
      "cell_type": "markdown",
      "metadata": {
        "id": "0QgATs2VixY_",
        "colab_type": "text"
      },
      "source": [
        "## Mejora para el problema en 1 dimesión\n",
        "\n",
        "El problema en una dimensión se puede mejorar a $O(n \\cdot log (n))$ ordenando la lista y luego iterando una vez comparando los puntos adyacentes ya que puntos que no sean adyacentes estarian mas lejos."
      ]
    },
    {
      "cell_type": "code",
      "metadata": {
        "id": "tvXdYp52TVhq",
        "colab_type": "code",
        "colab": {
          "base_uri": "https://localhost:8080/",
          "height": 289
        },
        "outputId": "c76f1d88-1b78-48ff-a100-6f62006e789d"
      },
      "source": [
        "def dist_mejorado(lista):\n",
        "    # ordenamos la lista, esto nos supone un costo en el peor caso de O(n log (n))\n",
        "    # ref. https://en.wikipedia.org/wiki/Timsort\n",
        "    lista.sort()\n",
        "    #print(lista)\n",
        "    n = 0\n",
        "    mejor_distancia = float('inf')\n",
        "    # recorremos la lista una vez O(n)\n",
        "    for i in range(0,len(lista)-1):\n",
        "        n += 1\n",
        "        #print('Compara',lista[i],'con',lista[i+1])\n",
        "        distancia_puntos = abs(lista[i]-lista[i+1])\n",
        "        if distancia_puntos < mejor_distancia:\n",
        "            mejor_distancia = distancia_puntos\n",
        "            puntos_mas_cercanos = (lista[i],lista[i+1])\n",
        "    return puntos_mas_cercanos, mejor_distancia, n\n",
        "\n",
        "\n",
        "print('\\033[1m' + 'Aquí podemos observar una amplia mejoría con respecto a la fuerza bruta:\\n'+ '\\033[0m')\n",
        "print('\\033[1m' + 'Prueba con seis puntos'+ '\\033[0m')\n",
        "print('Puntos mas cercanos:',dist_mejorado(LISTA_PRUEBA)[0], '\\nDistancia entre puntos:', dist_mejorado(LISTA_PRUEBA)[1],'\\nDemostración Complejidad:',dist_mejorado(LISTA_PRUEBA)[2])\n",
        "\n",
        "print('\\033[1m' + '\\nPrueba con mil puntos'+ '\\033[0m')\n",
        "print('Puntos mas cercanos:',dist_mejorado(LISTA_1D)[0], '\\nDistancia entre puntos:', dist_mejorado(LISTA_1D)[1],'\\nDemostración Complejidad:',dist_mejorado(LISTA_1D)[2])\n",
        "\n",
        "print('\\033[1m' + '\\nPrueba con mil puntos pero con una muestra aleatoria sin números repetidos'+ '\\033[0m')\n",
        "print('Puntos mas cercanos:',dist_mejorado(LISTA_1DU)[0], '\\nDistancia entre puntos:', dist_mejorado(LISTA_1DU)[1],'\\nDemostración Complejidad:',dist_mejorado(LISTA_1DU)[2])\n"
      ],
      "execution_count": 27,
      "outputs": [
        {
          "output_type": "stream",
          "text": [
            "\u001b[1mAquí podemos observar una amplia mejoría con respecto a la fuerza bruta:\n",
            "\u001b[0m\n",
            "\u001b[1mPrueba con seis puntos\u001b[0m\n",
            "Puntos mas cercanos: (9, 12) \n",
            "Distancia entre puntos: 3 \n",
            "Demostración Complejidad: 5\n",
            "\u001b[1m\n",
            "Prueba con mil puntos\u001b[0m\n",
            "Puntos mas cercanos: (36, 36) \n",
            "Distancia entre puntos: 0 \n",
            "Demostración Complejidad: 999\n",
            "\u001b[1m\n",
            "Prueba con mil puntos pero con una muestra aleatoria sin números repetidos\u001b[0m\n",
            "Puntos mas cercanos: (57756707, 57756777) \n",
            "Distancia entre puntos: 70 \n",
            "Demostración Complejidad: 999\n"
          ],
          "name": "stdout"
        }
      ]
    },
    {
      "cell_type": "markdown",
      "metadata": {
        "id": "K83A7dfTb5a5",
        "colab_type": "text"
      },
      "source": [
        "## Intento aplicando algoritmo de divide y vencerás para 1 dimensión\n",
        "\n",
        "No creo que este algoritmo de fuerza bruta se pueda mejorar, debe utilizarse otro método. Por ejemplo con divide y venceras se puede lograr en $O(n \\cdot log (n))$\n",
        "\n",
        "https://www.youtube.com/watch?v=jAigdwcATNw\n",
        "\n"
      ]
    },
    {
      "cell_type": "code",
      "metadata": {
        "id": "cKgLTxmekY86",
        "colab_type": "code",
        "colab": {
          "base_uri": "https://localhost:8080/",
          "height": 68
        },
        "outputId": "0c45e351-24bc-49c0-dacb-f71154c55255"
      },
      "source": [
        "LISTA2D_PRUEBA =[(5, 6), (1, 1), (7, 3), (2, 4), (1, 8), (1, 5)]\n",
        "\n",
        "Px = [item[1] for item in sorted([(pt[0],pt) for pt in LISTA2D_PRUEBA])]\n",
        "Py = [item[1] for item in sorted([(pt[1],pt) for pt in LISTA2D_PRUEBA])]\n",
        "\n",
        "def distancia_puntos(a, b):\n",
        "    return ((a[0] - b[0]) ** 2 + (a[1] - b[1]) ** 2) ** 0.5\n",
        "\n",
        "\n",
        "#print(distancia_puntos((0,0),(3,4)))\n",
        "print(LISTA2D_PRUEBA)\n",
        "print(Px)\n",
        "print(Py)\n"
      ],
      "execution_count": 39,
      "outputs": [
        {
          "output_type": "stream",
          "text": [
            "[(5, 6), (1, 1), (7, 3), (2, 4), (1, 8), (1, 5)]\n",
            "[(1, 1), (1, 5), (1, 8), (2, 4), (5, 6), (7, 3)]\n",
            "[(1, 1), (7, 3), (2, 4), (1, 5), (5, 6), (1, 8)]\n"
          ],
          "name": "stdout"
        }
      ]
    },
    {
      "cell_type": "code",
      "metadata": {
        "id": "_A12inlUrRyJ",
        "colab_type": "code",
        "colab": {
          "base_uri": "https://localhost:8080/",
          "height": 34
        },
        "outputId": "6c5126c0-d87f-4d37-c971-11d17d13f9ee"
      },
      "source": [
        "print([(random.randrange(1,10),random.randrange(1,10)) for x in range (6)])"
      ],
      "execution_count": 30,
      "outputs": [
        {
          "output_type": "stream",
          "text": [
            "[(5, 6), (1, 1), (7, 3), (2, 4), (1, 8), (1, 5)]\n"
          ],
          "name": "stdout"
        }
      ]
    }
  ]
}